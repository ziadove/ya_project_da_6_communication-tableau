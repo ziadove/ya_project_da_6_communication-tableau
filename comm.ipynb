{
 "cells": [
  {
   "cell_type": "markdown",
   "id": "03f3c60d",
   "metadata": {},
   "source": [
    "# Определение текущего уровня потребительской лояльности."
   ]
  },
  {
   "cell_type": "markdown",
   "id": "7b5c2676",
   "metadata": {},
   "source": [
    "Заказчик этого исследования — большая телекоммуникационная компания, которая оказывает услуги на территории всего СНГ. Перед компанией стоит задача определить текущий уровень потребительской лояльности, или NPS (от англ. Net Promoter Score), среди клиентов из России."
   ]
  },
  {
   "cell_type": "markdown",
   "id": "5e5603e1",
   "metadata": {},
   "source": [
    "Чтобы определить уровень лояльности, клиентам задавали классический вопрос: «Оцените по шкале от 1 до 10 вероятность того, что вы порекомендуете компанию друзьям и знакомым».\n",
    "Чтобы оценить результаты опроса, оценки обычно делят на три группы:\n",
    "- 9-10 баллов — «cторонники» (англ. promoters);\n",
    "- 7-8 баллов — «нейтралы» (англ. passives);\n",
    "- 0-6 баллов — «критики» (англ. detractors).\n",
    "\n",
    "\n",
    "Итоговое значение NPS рассчитывается по формуле: % «сторонников» - % «критиков»."
   ]
  },
  {
   "cell_type": "markdown",
   "id": "7186c6a2",
   "metadata": {},
   "source": [
    "<b>Цель:</b>\n",
    "- определить текущий уровень потребительской лояльности среди клиентов из России.\n",
    "\n",
    "<b>Задачи:</b>\n",
    "1. импортировать необходимые библиотеки,\n",
    "2. построить дашборд и с его помощью ответить на вопросы:\n",
    "- Как распределены участники опроса по возрасту, полу и возрасту? \n",
    "- Каких пользователей больше: новых или старых? \n",
    "- Пользователи из каких городов активнее участвовали в опросе?\n",
    "- Какие группы пользователей наиболее лояльны к сервису? Какие менее?\n",
    "- Какой общий NPS среди всех опрошенных?\n",
    "- Как можно описать клиентов, которые относятся к группе cторонников (англ. promoters)?\n",
    "\n",
    "\n",
    "<b>Ход работы:</b>\n",
    "1. [Подключение к базе](#import)\n",
    "2. [\"Исследовательский анализ\"](#analysis)\n",
    "3. Отчет:\n",
    "- [ссылки на дашборд на сайте Tableau Public](#tableau)\n",
    "- [ссылка на pdf-файл с презентацией](#presentation)"
   ]
  },
  {
   "cell_type": "markdown",
   "id": "070819fd",
   "metadata": {},
   "source": [
    "<a id=\"import\"> </a>\n",
    "# 1. Подключение к базе"
   ]
  },
  {
   "cell_type": "code",
   "execution_count": 1,
   "id": "2a5b0731",
   "metadata": {
    "tags": [
     "aa81075c-062f-4de0-b5fe-14c73dc7468e"
    ]
   },
   "outputs": [],
   "source": [
    "import pandas as pd\n",
    "import numpy as np\n",
    "\n",
    "from sqlalchemy import create_engine"
   ]
  },
  {
   "cell_type": "code",
   "execution_count": 2,
   "id": "5cf86cb8",
   "metadata": {},
   "outputs": [],
   "source": [
    "path_to_db = '/datasets/telecomm_csi.db'\n",
    "engine = create_engine(f'sqlite:///{path_to_db}', echo = False)"
   ]
  },
  {
   "cell_type": "code",
   "execution_count": 21,
   "id": "c1131299",
   "metadata": {},
   "outputs": [],
   "source": [
    "query = \"\"\"\n",
    "SELECT u.user_id,\n",
    "       u.lt_day,\n",
    "       \n",
    "       CASE \n",
    "           WHEN u.lt_day<=365 \n",
    "               THEN 'True' \n",
    "           ELSE 'False' \n",
    "       END is_new,\n",
    "       \n",
    "       u.age,\n",
    "       \n",
    "       CASE \n",
    "           WHEN u.gender_segment==1 \n",
    "               THEN 'женщина' \n",
    "           WHEN u.gender_segment==0\n",
    "               THEN 'мужчина'\n",
    "       END gender_segment,\n",
    "       \n",
    "       u.os_name,\n",
    "       u.cpe_type_name,\n",
    "       l.country,\n",
    "       l.city,\n",
    "       SUBSTR(age.title, 4) AS age_segment,\n",
    "       SUBSTR(tr.title, 4) AS traffic_segment,\n",
    "       SUBSTR(life.title, 4) AS lifetime_segment,\n",
    "       u.nps_score,\n",
    "       \n",
    "       CASE \n",
    "           WHEN u.nps_score BETWEEN 9 AND 10\n",
    "               THEN 'сторонники' \n",
    "           WHEN u.nps_score BETWEEN 7 AND 8\n",
    "               THEN 'нейтралы'\n",
    "           ELSE 'критики' \n",
    "       END nps_group\n",
    "       \n",
    "FROM user AS u\n",
    "\n",
    "LEFT JOIN location AS l ON u.location_id=l.location_id\n",
    "LEFT JOIN age_segment AS age ON u.age_gr_id=age.age_gr_id\n",
    "LEFT JOIN traffic_segment AS tr ON u.tr_gr_id=tr.tr_gr_id\n",
    "LEFT JOIN lifetime_segment AS life on u.lt_gr_id=life.lt_gr_id;\n",
    "\"\"\""
   ]
  },
  {
   "cell_type": "code",
   "execution_count": 22,
   "id": "54e7ede4",
   "metadata": {},
   "outputs": [],
   "source": [
    "df = pd.read_sql(query, engine)"
   ]
  },
  {
   "cell_type": "code",
   "execution_count": 23,
   "id": "70bde99e",
   "metadata": {
    "scrolled": true
   },
   "outputs": [
    {
     "data": {
      "text/html": [
       "<div>\n",
       "<style scoped>\n",
       "    .dataframe tbody tr th:only-of-type {\n",
       "        vertical-align: middle;\n",
       "    }\n",
       "\n",
       "    .dataframe tbody tr th {\n",
       "        vertical-align: top;\n",
       "    }\n",
       "\n",
       "    .dataframe thead th {\n",
       "        text-align: right;\n",
       "    }\n",
       "</style>\n",
       "<table border=\"1\" class=\"dataframe\">\n",
       "  <thead>\n",
       "    <tr style=\"text-align: right;\">\n",
       "      <th></th>\n",
       "      <th>user_id</th>\n",
       "      <th>lt_day</th>\n",
       "      <th>is_new</th>\n",
       "      <th>age</th>\n",
       "      <th>gender_segment</th>\n",
       "      <th>os_name</th>\n",
       "      <th>cpe_type_name</th>\n",
       "      <th>country</th>\n",
       "      <th>city</th>\n",
       "      <th>age_segment</th>\n",
       "      <th>traffic_segment</th>\n",
       "      <th>lifetime_segment</th>\n",
       "      <th>nps_score</th>\n",
       "      <th>nps_group</th>\n",
       "    </tr>\n",
       "  </thead>\n",
       "  <tbody>\n",
       "    <tr>\n",
       "      <th>0</th>\n",
       "      <td>A001A2</td>\n",
       "      <td>2320</td>\n",
       "      <td>False</td>\n",
       "      <td>45.0</td>\n",
       "      <td>женщина</td>\n",
       "      <td>ANDROID</td>\n",
       "      <td>SMARTPHONE</td>\n",
       "      <td>Россия</td>\n",
       "      <td>Уфа</td>\n",
       "      <td>45-54</td>\n",
       "      <td>1-5</td>\n",
       "      <td>36+</td>\n",
       "      <td>10</td>\n",
       "      <td>сторонники</td>\n",
       "    </tr>\n",
       "    <tr>\n",
       "      <th>1</th>\n",
       "      <td>A001WF</td>\n",
       "      <td>2344</td>\n",
       "      <td>False</td>\n",
       "      <td>53.0</td>\n",
       "      <td>мужчина</td>\n",
       "      <td>ANDROID</td>\n",
       "      <td>SMARTPHONE</td>\n",
       "      <td>Россия</td>\n",
       "      <td>Киров</td>\n",
       "      <td>45-54</td>\n",
       "      <td>1-5</td>\n",
       "      <td>36+</td>\n",
       "      <td>10</td>\n",
       "      <td>сторонники</td>\n",
       "    </tr>\n",
       "    <tr>\n",
       "      <th>2</th>\n",
       "      <td>A003Q7</td>\n",
       "      <td>467</td>\n",
       "      <td>False</td>\n",
       "      <td>57.0</td>\n",
       "      <td>мужчина</td>\n",
       "      <td>ANDROID</td>\n",
       "      <td>SMARTPHONE</td>\n",
       "      <td>Россия</td>\n",
       "      <td>Москва</td>\n",
       "      <td>55-64</td>\n",
       "      <td>20-25</td>\n",
       "      <td>13-24</td>\n",
       "      <td>10</td>\n",
       "      <td>сторонники</td>\n",
       "    </tr>\n",
       "    <tr>\n",
       "      <th>3</th>\n",
       "      <td>A004TB</td>\n",
       "      <td>4190</td>\n",
       "      <td>False</td>\n",
       "      <td>44.0</td>\n",
       "      <td>женщина</td>\n",
       "      <td>IOS</td>\n",
       "      <td>SMARTPHONE</td>\n",
       "      <td>Россия</td>\n",
       "      <td>РостовнаДону</td>\n",
       "      <td>35-44</td>\n",
       "      <td>0.1-1</td>\n",
       "      <td>36+</td>\n",
       "      <td>10</td>\n",
       "      <td>сторонники</td>\n",
       "    </tr>\n",
       "    <tr>\n",
       "      <th>4</th>\n",
       "      <td>A004XT</td>\n",
       "      <td>1163</td>\n",
       "      <td>False</td>\n",
       "      <td>24.0</td>\n",
       "      <td>мужчина</td>\n",
       "      <td>ANDROID</td>\n",
       "      <td>SMARTPHONE</td>\n",
       "      <td>Россия</td>\n",
       "      <td>Рязань</td>\n",
       "      <td>16-24</td>\n",
       "      <td>5-10</td>\n",
       "      <td>36+</td>\n",
       "      <td>10</td>\n",
       "      <td>сторонники</td>\n",
       "    </tr>\n",
       "  </tbody>\n",
       "</table>\n",
       "</div>"
      ],
      "text/plain": [
       "  user_id  lt_day is_new   age gender_segment  os_name cpe_type_name country  \\\n",
       "0  A001A2    2320  False  45.0        женщина  ANDROID    SMARTPHONE  Россия   \n",
       "1  A001WF    2344  False  53.0        мужчина  ANDROID    SMARTPHONE  Россия   \n",
       "2  A003Q7     467  False  57.0        мужчина  ANDROID    SMARTPHONE  Россия   \n",
       "3  A004TB    4190  False  44.0        женщина      IOS    SMARTPHONE  Россия   \n",
       "4  A004XT    1163  False  24.0        мужчина  ANDROID    SMARTPHONE  Россия   \n",
       "\n",
       "           city age_segment traffic_segment lifetime_segment  nps_score  \\\n",
       "0           Уфа       45-54             1-5              36+         10   \n",
       "1         Киров       45-54             1-5              36+         10   \n",
       "2        Москва       55-64           20-25            13-24         10   \n",
       "3  РостовнаДону       35-44           0.1-1              36+         10   \n",
       "4        Рязань       16-24            5-10              36+         10   \n",
       "\n",
       "    nps_group  \n",
       "0  сторонники  \n",
       "1  сторонники  \n",
       "2  сторонники  \n",
       "3  сторонники  \n",
       "4  сторонники  "
      ]
     },
     "execution_count": 23,
     "metadata": {},
     "output_type": "execute_result"
    }
   ],
   "source": [
    "df.head(5)"
   ]
  },
  {
   "cell_type": "code",
   "execution_count": 6,
   "id": "48a10cbd",
   "metadata": {},
   "outputs": [
    {
     "name": "stdout",
     "output_type": "stream",
     "text": [
      "<class 'pandas.core.frame.DataFrame'>\n",
      "RangeIndex: 502493 entries, 0 to 502492\n",
      "Data columns (total 14 columns):\n",
      " #   Column            Non-Null Count   Dtype  \n",
      "---  ------            --------------   -----  \n",
      " 0   user_id           502493 non-null  object \n",
      " 1   lt_day            502493 non-null  int64  \n",
      " 2   is_new            502493 non-null  object \n",
      " 3   age               501939 non-null  float64\n",
      " 4   gender_segment    502493 non-null  object \n",
      " 5   os_name           502493 non-null  object \n",
      " 6   cpe_type_name     502493 non-null  object \n",
      " 7   country           502493 non-null  object \n",
      " 8   city              502493 non-null  object \n",
      " 9   age_segment       502493 non-null  object \n",
      " 10  traffic_segment   502493 non-null  object \n",
      " 11  lifetime_segment  502493 non-null  object \n",
      " 12  nps_score         502493 non-null  int64  \n",
      " 13  nps_group         502493 non-null  object \n",
      "dtypes: float64(1), int64(2), object(11)\n",
      "memory usage: 53.7+ MB\n"
     ]
    }
   ],
   "source": [
    "df.info()"
   ]
  },
  {
   "cell_type": "code",
   "execution_count": 11,
   "id": "a2d13368",
   "metadata": {},
   "outputs": [],
   "source": [
    "df.to_csv('telecomm_csi_tableau.csv', index=False)"
   ]
  },
  {
   "cell_type": "markdown",
   "id": "929156f5",
   "metadata": {},
   "source": [
    "<a id=\"analysis\"> </a>\n",
    "# 2. \"Исследовательский анализ\"."
   ]
  },
  {
   "cell_type": "code",
   "execution_count": 9,
   "id": "86b25811",
   "metadata": {},
   "outputs": [
    {
     "data": {
      "text/plain": [
       "age_segment\n",
       "01 до 16       685\n",
       "02 16-24     29955\n",
       "03 25-34    154800\n",
       "04 35-44    165933\n",
       "05 45-54     94269\n",
       "06 55-64     43061\n",
       "07 66 +      13236\n",
       "08 n/a         554\n",
       "Name: age_segment, dtype: int64"
      ]
     },
     "execution_count": 9,
     "metadata": {},
     "output_type": "execute_result"
    }
   ],
   "source": [
    "df.groupby('age_segment')['age_segment'].count()"
   ]
  },
  {
   "cell_type": "code",
   "execution_count": 10,
   "id": "b791ff6b",
   "metadata": {},
   "outputs": [
    {
     "data": {
      "text/html": [
       "<div>\n",
       "<style scoped>\n",
       "    .dataframe tbody tr th:only-of-type {\n",
       "        vertical-align: middle;\n",
       "    }\n",
       "\n",
       "    .dataframe tbody tr th {\n",
       "        vertical-align: top;\n",
       "    }\n",
       "\n",
       "    .dataframe thead th {\n",
       "        text-align: right;\n",
       "    }\n",
       "</style>\n",
       "<table border=\"1\" class=\"dataframe\">\n",
       "  <thead>\n",
       "    <tr style=\"text-align: right;\">\n",
       "      <th></th>\n",
       "      <th>user_id</th>\n",
       "      <th>lt_day</th>\n",
       "      <th>is_new</th>\n",
       "      <th>age</th>\n",
       "      <th>gender_segment</th>\n",
       "      <th>os_name</th>\n",
       "      <th>cpe_type_name</th>\n",
       "      <th>country</th>\n",
       "      <th>city</th>\n",
       "      <th>age_segment</th>\n",
       "      <th>traffic_segment</th>\n",
       "      <th>lifetime_segment</th>\n",
       "      <th>nps_score</th>\n",
       "      <th>nps_group</th>\n",
       "    </tr>\n",
       "  </thead>\n",
       "  <tbody>\n",
       "    <tr>\n",
       "      <th>751</th>\n",
       "      <td>A1E59W</td>\n",
       "      <td>4055</td>\n",
       "      <td>False</td>\n",
       "      <td>NaN</td>\n",
       "      <td>мужчина</td>\n",
       "      <td>ANDROID</td>\n",
       "      <td>SMARTPHONE</td>\n",
       "      <td>Россия</td>\n",
       "      <td>Екатеринбург</td>\n",
       "      <td>08 n/a</td>\n",
       "      <td>04 1-5</td>\n",
       "      <td>08 36+</td>\n",
       "      <td>1</td>\n",
       "      <td>критики</td>\n",
       "    </tr>\n",
       "    <tr>\n",
       "      <th>1209</th>\n",
       "      <td>A28ZDT</td>\n",
       "      <td>4243</td>\n",
       "      <td>False</td>\n",
       "      <td>NaN</td>\n",
       "      <td>мужчина</td>\n",
       "      <td>ANDROID</td>\n",
       "      <td>SMARTPHONE</td>\n",
       "      <td>Россия</td>\n",
       "      <td>Хабаровск</td>\n",
       "      <td>08 n/a</td>\n",
       "      <td>04 1-5</td>\n",
       "      <td>08 36+</td>\n",
       "      <td>5</td>\n",
       "      <td>критики</td>\n",
       "    </tr>\n",
       "    <tr>\n",
       "      <th>1321</th>\n",
       "      <td>A2GLPQ</td>\n",
       "      <td>2354</td>\n",
       "      <td>False</td>\n",
       "      <td>NaN</td>\n",
       "      <td>мужчина</td>\n",
       "      <td>ANDROID</td>\n",
       "      <td>SMARTPHONE</td>\n",
       "      <td>Россия</td>\n",
       "      <td>Иркутск</td>\n",
       "      <td>08 n/a</td>\n",
       "      <td>06 10-15</td>\n",
       "      <td>08 36+</td>\n",
       "      <td>1</td>\n",
       "      <td>критики</td>\n",
       "    </tr>\n",
       "    <tr>\n",
       "      <th>2163</th>\n",
       "      <td>A41C1K</td>\n",
       "      <td>557</td>\n",
       "      <td>False</td>\n",
       "      <td>NaN</td>\n",
       "      <td>мужчина</td>\n",
       "      <td>ANDROID</td>\n",
       "      <td>SMARTPHONE</td>\n",
       "      <td>Россия</td>\n",
       "      <td>РостовнаДону</td>\n",
       "      <td>08 n/a</td>\n",
       "      <td>04 1-5</td>\n",
       "      <td>06 13-24</td>\n",
       "      <td>3</td>\n",
       "      <td>критики</td>\n",
       "    </tr>\n",
       "    <tr>\n",
       "      <th>2667</th>\n",
       "      <td>A513VG</td>\n",
       "      <td>4705</td>\n",
       "      <td>False</td>\n",
       "      <td>NaN</td>\n",
       "      <td>мужчина</td>\n",
       "      <td>IOS</td>\n",
       "      <td>SMARTPHONE</td>\n",
       "      <td>Россия</td>\n",
       "      <td>Екатеринбург</td>\n",
       "      <td>08 n/a</td>\n",
       "      <td>23 95-100</td>\n",
       "      <td>08 36+</td>\n",
       "      <td>9</td>\n",
       "      <td>сторонники</td>\n",
       "    </tr>\n",
       "    <tr>\n",
       "      <th>...</th>\n",
       "      <td>...</td>\n",
       "      <td>...</td>\n",
       "      <td>...</td>\n",
       "      <td>...</td>\n",
       "      <td>...</td>\n",
       "      <td>...</td>\n",
       "      <td>...</td>\n",
       "      <td>...</td>\n",
       "      <td>...</td>\n",
       "      <td>...</td>\n",
       "      <td>...</td>\n",
       "      <td>...</td>\n",
       "      <td>...</td>\n",
       "      <td>...</td>\n",
       "    </tr>\n",
       "    <tr>\n",
       "      <th>499598</th>\n",
       "      <td>ZUDYU9</td>\n",
       "      <td>520</td>\n",
       "      <td>False</td>\n",
       "      <td>NaN</td>\n",
       "      <td>мужчина</td>\n",
       "      <td>ANDROID</td>\n",
       "      <td>SMARTPHONE</td>\n",
       "      <td>Россия</td>\n",
       "      <td>СанктПетербург</td>\n",
       "      <td>08 n/a</td>\n",
       "      <td>24 100+</td>\n",
       "      <td>06 13-24</td>\n",
       "      <td>9</td>\n",
       "      <td>сторонники</td>\n",
       "    </tr>\n",
       "    <tr>\n",
       "      <th>500834</th>\n",
       "      <td>ZWQJRW</td>\n",
       "      <td>220</td>\n",
       "      <td>True</td>\n",
       "      <td>NaN</td>\n",
       "      <td>мужчина</td>\n",
       "      <td>ANDROID</td>\n",
       "      <td>SMARTPHONE</td>\n",
       "      <td>Россия</td>\n",
       "      <td>Самара</td>\n",
       "      <td>08 n/a</td>\n",
       "      <td>03 0.1-1</td>\n",
       "      <td>05 7-12</td>\n",
       "      <td>1</td>\n",
       "      <td>критики</td>\n",
       "    </tr>\n",
       "    <tr>\n",
       "      <th>501246</th>\n",
       "      <td>ZXK9AK</td>\n",
       "      <td>3550</td>\n",
       "      <td>False</td>\n",
       "      <td>NaN</td>\n",
       "      <td>мужчина</td>\n",
       "      <td>ANDROID</td>\n",
       "      <td>SMARTPHONE</td>\n",
       "      <td>Россия</td>\n",
       "      <td>Томск</td>\n",
       "      <td>08 n/a</td>\n",
       "      <td>04 1-5</td>\n",
       "      <td>08 36+</td>\n",
       "      <td>4</td>\n",
       "      <td>критики</td>\n",
       "    </tr>\n",
       "    <tr>\n",
       "      <th>502376</th>\n",
       "      <td>ZZRS2G</td>\n",
       "      <td>345</td>\n",
       "      <td>True</td>\n",
       "      <td>NaN</td>\n",
       "      <td>мужчина</td>\n",
       "      <td>ANDROID</td>\n",
       "      <td>SMARTPHONE</td>\n",
       "      <td>Россия</td>\n",
       "      <td>Москва</td>\n",
       "      <td>08 n/a</td>\n",
       "      <td>04 1-5</td>\n",
       "      <td>05 7-12</td>\n",
       "      <td>5</td>\n",
       "      <td>критики</td>\n",
       "    </tr>\n",
       "    <tr>\n",
       "      <th>502455</th>\n",
       "      <td>ZZXH2T</td>\n",
       "      <td>268</td>\n",
       "      <td>True</td>\n",
       "      <td>NaN</td>\n",
       "      <td>мужчина</td>\n",
       "      <td>ANDROID</td>\n",
       "      <td>SMARTPHONE</td>\n",
       "      <td>Россия</td>\n",
       "      <td>Череповец</td>\n",
       "      <td>08 n/a</td>\n",
       "      <td>07 15-20</td>\n",
       "      <td>05 7-12</td>\n",
       "      <td>1</td>\n",
       "      <td>критики</td>\n",
       "    </tr>\n",
       "  </tbody>\n",
       "</table>\n",
       "<p>554 rows × 14 columns</p>\n",
       "</div>"
      ],
      "text/plain": [
       "       user_id  lt_day is_new  age gender_segment  os_name cpe_type_name  \\\n",
       "751     A1E59W    4055  False  NaN        мужчина  ANDROID    SMARTPHONE   \n",
       "1209    A28ZDT    4243  False  NaN        мужчина  ANDROID    SMARTPHONE   \n",
       "1321    A2GLPQ    2354  False  NaN        мужчина  ANDROID    SMARTPHONE   \n",
       "2163    A41C1K     557  False  NaN        мужчина  ANDROID    SMARTPHONE   \n",
       "2667    A513VG    4705  False  NaN        мужчина      IOS    SMARTPHONE   \n",
       "...        ...     ...    ...  ...            ...      ...           ...   \n",
       "499598  ZUDYU9     520  False  NaN        мужчина  ANDROID    SMARTPHONE   \n",
       "500834  ZWQJRW     220   True  NaN        мужчина  ANDROID    SMARTPHONE   \n",
       "501246  ZXK9AK    3550  False  NaN        мужчина  ANDROID    SMARTPHONE   \n",
       "502376  ZZRS2G     345   True  NaN        мужчина  ANDROID    SMARTPHONE   \n",
       "502455  ZZXH2T     268   True  NaN        мужчина  ANDROID    SMARTPHONE   \n",
       "\n",
       "       country            city age_segment traffic_segment lifetime_segment  \\\n",
       "751     Россия    Екатеринбург      08 n/a          04 1-5           08 36+   \n",
       "1209    Россия       Хабаровск      08 n/a          04 1-5           08 36+   \n",
       "1321    Россия         Иркутск      08 n/a        06 10-15           08 36+   \n",
       "2163    Россия    РостовнаДону      08 n/a          04 1-5         06 13-24   \n",
       "2667    Россия    Екатеринбург      08 n/a       23 95-100           08 36+   \n",
       "...        ...             ...         ...             ...              ...   \n",
       "499598  Россия  СанктПетербург      08 n/a         24 100+         06 13-24   \n",
       "500834  Россия          Самара      08 n/a        03 0.1-1          05 7-12   \n",
       "501246  Россия           Томск      08 n/a          04 1-5           08 36+   \n",
       "502376  Россия          Москва      08 n/a          04 1-5          05 7-12   \n",
       "502455  Россия       Череповец      08 n/a        07 15-20          05 7-12   \n",
       "\n",
       "        nps_score   nps_group  \n",
       "751             1     критики  \n",
       "1209            5     критики  \n",
       "1321            1     критики  \n",
       "2163            3     критики  \n",
       "2667            9  сторонники  \n",
       "...           ...         ...  \n",
       "499598          9  сторонники  \n",
       "500834          1     критики  \n",
       "501246          4     критики  \n",
       "502376          5     критики  \n",
       "502455          1     критики  \n",
       "\n",
       "[554 rows x 14 columns]"
      ]
     },
     "execution_count": 10,
     "metadata": {},
     "output_type": "execute_result"
    }
   ],
   "source": [
    "df.query('age_segment==\"08 n/a\"')"
   ]
  },
  {
   "cell_type": "code",
   "execution_count": 10,
   "id": "4dccacf3",
   "metadata": {},
   "outputs": [
    {
     "data": {
      "text/plain": [
       "gender_segment\n",
       "женщина    272442\n",
       "мужчина    230051\n",
       "Name: gender_segment, dtype: int64"
      ]
     },
     "execution_count": 10,
     "metadata": {},
     "output_type": "execute_result"
    }
   ],
   "source": [
    "df.groupby('gender_segment')['gender_segment'].count()"
   ]
  },
  {
   "cell_type": "code",
   "execution_count": 12,
   "id": "d1be7594",
   "metadata": {},
   "outputs": [
    {
     "data": {
      "text/plain": [
       "is_new\n",
       "False    416393\n",
       "True      86100\n",
       "Name: is_new, dtype: int64"
      ]
     },
     "execution_count": 12,
     "metadata": {},
     "output_type": "execute_result"
    }
   ],
   "source": [
    "df.groupby('is_new')['is_new'].count()"
   ]
  },
  {
   "cell_type": "code",
   "execution_count": 13,
   "id": "564c3552",
   "metadata": {},
   "outputs": [
    {
     "data": {
      "text/plain": [
       "cpe_type_name\n",
       "HANDHELD                           1\n",
       "MIFI ROUTER                        1\n",
       "MOBILE PHONE/FEATURE PHONE      2471\n",
       "MOBILE TEST PLATFORM               1\n",
       "MODEM                              7\n",
       "NETWORK DEVICE                     3\n",
       "PHONE                           2531\n",
       "PORTABLE(INCLUDE PDA)              1\n",
       "ROUTER                           196\n",
       "SMARTPHONE                    487959\n",
       "TABLET                          9274\n",
       "USB MODEM                         27\n",
       "WLAN ROUTER                        3\n",
       "unknown                           18\n",
       "Name: cpe_type_name, dtype: int64"
      ]
     },
     "execution_count": 13,
     "metadata": {},
     "output_type": "execute_result"
    }
   ],
   "source": [
    "df.groupby('cpe_type_name')['cpe_type_name'].count()"
   ]
  },
  {
   "cell_type": "markdown",
   "id": "6b7a35b1",
   "metadata": {},
   "source": [
    "# 3. Отчет."
   ]
  },
  {
   "cell_type": "markdown",
   "id": "04f13f01",
   "metadata": {},
   "source": [
    "<a id=\"tableau\"> </a>\n",
    "### Укажите ссылку на дашборд на сайте Tableau Public:"
   ]
  },
  {
   "cell_type": "markdown",
   "id": "ea36ff83",
   "metadata": {},
   "source": [
    "<https://public.tableau.com/app/profile/anasatasia3818/viz/ya_project_2_loyal/ratio?publish=yes>"
   ]
  },
  {
   "cell_type": "markdown",
   "id": "5735e3d0",
   "metadata": {},
   "source": [
    "<a id=\"presentation\"> </a>\n",
    "### Укажите ссылку на pdf-файл с презентацией:"
   ]
  },
  {
   "cell_type": "markdown",
   "id": "b0e1416d",
   "metadata": {},
   "source": [
    "<https://github.com/ziadove/ya_project_6_communication/blob/d49afa38b1ca7fed7f8ba5b205105d5f95ed3821/presentation.pdf>"
   ]
  }
 ],
 "metadata": {
  "ExecuteTimeLog": [
   {
    "duration": 752,
    "start_time": "2021-10-03T17:40:52.731Z"
   },
   {
    "duration": 20,
    "start_time": "2021-10-03T17:40:53.486Z"
   },
   {
    "duration": 4,
    "start_time": "2021-10-03T17:41:04.638Z"
   },
   {
    "duration": 461,
    "start_time": "2021-10-03T17:41:04.912Z"
   },
   {
    "duration": 284,
    "start_time": "2021-10-03T17:41:05.376Z"
   },
   {
    "duration": 574,
    "start_time": "2021-10-06T07:55:05.029Z"
   },
   {
    "duration": 6,
    "start_time": "2021-10-06T07:55:05.605Z"
   },
   {
    "duration": 3,
    "start_time": "2021-10-06T07:55:14.685Z"
   },
   {
    "duration": 406,
    "start_time": "2021-10-06T07:55:15.522Z"
   },
   {
    "duration": 67,
    "start_time": "2021-10-06T07:55:15.929Z"
   },
   {
    "duration": 840,
    "start_time": "2021-10-07T07:54:04.647Z"
   },
   {
    "duration": 10,
    "start_time": "2021-10-07T07:54:05.490Z"
   },
   {
    "duration": 4,
    "start_time": "2021-10-07T07:54:05.544Z"
   },
   {
    "duration": 391,
    "start_time": "2021-10-07T07:54:06.237Z"
   },
   {
    "duration": 293,
    "start_time": "2021-10-07T07:54:06.654Z"
   },
   {
    "duration": 51,
    "start_time": "2022-12-05T09:52:29.899Z"
   },
   {
    "duration": 66,
    "start_time": "2022-12-05T09:53:18.637Z"
   },
   {
    "duration": 70,
    "start_time": "2022-12-05T09:53:48.678Z"
   },
   {
    "duration": 8,
    "start_time": "2022-12-05T09:53:55.102Z"
   },
   {
    "duration": 6,
    "start_time": "2022-12-05T09:54:24.238Z"
   },
   {
    "duration": 545,
    "start_time": "2022-12-05T09:54:27.286Z"
   },
   {
    "duration": 11,
    "start_time": "2022-12-05T09:54:27.833Z"
   },
   {
    "duration": 3,
    "start_time": "2022-12-05T09:54:28.431Z"
   },
   {
    "duration": 455,
    "start_time": "2022-12-05T09:54:29.008Z"
   },
   {
    "duration": 131,
    "start_time": "2022-12-05T09:54:30.299Z"
   },
   {
    "duration": 10,
    "start_time": "2022-12-05T09:54:30.802Z"
   },
   {
    "duration": 57,
    "start_time": "2022-12-05T09:55:04.531Z"
   },
   {
    "duration": 414,
    "start_time": "2022-12-05T10:02:52.599Z"
   },
   {
    "duration": 415,
    "start_time": "2022-12-05T10:03:03.294Z"
   },
   {
    "duration": 421,
    "start_time": "2022-12-05T10:03:27.909Z"
   },
   {
    "duration": 423,
    "start_time": "2022-12-05T10:03:53.019Z"
   },
   {
    "duration": 74,
    "start_time": "2022-12-05T10:18:04.417Z"
   },
   {
    "duration": 88,
    "start_time": "2022-12-05T10:18:11.585Z"
   },
   {
    "duration": 94,
    "start_time": "2022-12-05T10:18:57.152Z"
   },
   {
    "duration": 79,
    "start_time": "2022-12-05T10:19:05.073Z"
   },
   {
    "duration": 59,
    "start_time": "2022-12-05T10:19:09.481Z"
   },
   {
    "duration": 73,
    "start_time": "2022-12-05T10:19:18.794Z"
   },
   {
    "duration": 8,
    "start_time": "2022-12-05T10:42:04.722Z"
   },
   {
    "duration": 59,
    "start_time": "2022-12-05T10:42:06.100Z"
   },
   {
    "duration": 536,
    "start_time": "2022-12-05T10:42:21.421Z"
   },
   {
    "duration": 9,
    "start_time": "2022-12-05T10:42:21.959Z"
   },
   {
    "duration": 2,
    "start_time": "2022-12-05T10:42:22.664Z"
   },
   {
    "duration": 8411,
    "start_time": "2022-12-05T10:42:23.291Z"
   },
   {
    "duration": 379,
    "start_time": "2022-12-05T10:43:00.321Z"
   },
   {
    "duration": 7519,
    "start_time": "2022-12-05T10:44:57.088Z"
   },
   {
    "duration": 7464,
    "start_time": "2022-12-05T10:45:11.825Z"
   },
   {
    "duration": 29,
    "start_time": "2022-12-05T10:45:19.292Z"
   },
   {
    "duration": 3,
    "start_time": "2022-12-05T11:01:46.333Z"
   },
   {
    "duration": 4069,
    "start_time": "2022-12-05T11:01:47.752Z"
   },
   {
    "duration": 13,
    "start_time": "2022-12-05T11:01:53.314Z"
   },
   {
    "duration": 421,
    "start_time": "2022-12-05T11:01:57.537Z"
   },
   {
    "duration": 74,
    "start_time": "2022-12-05T11:06:04.530Z"
   },
   {
    "duration": 3,
    "start_time": "2022-12-05T11:06:11.351Z"
   },
   {
    "duration": 31,
    "start_time": "2022-12-05T11:09:41.515Z"
   },
   {
    "duration": 12,
    "start_time": "2022-12-05T11:09:41.562Z"
   },
   {
    "duration": 3737,
    "start_time": "2022-12-05T11:09:41.671Z"
   },
   {
    "duration": 3,
    "start_time": "2022-12-05T11:10:03.118Z"
   },
   {
    "duration": 9,
    "start_time": "2022-12-05T11:10:03.588Z"
   },
   {
    "duration": 3,
    "start_time": "2022-12-05T11:10:46.573Z"
   },
   {
    "duration": 6,
    "start_time": "2022-12-05T11:10:47.312Z"
   },
   {
    "duration": 358,
    "start_time": "2022-12-05T11:10:59.882Z"
   },
   {
    "duration": 72,
    "start_time": "2022-12-05T11:11:13.897Z"
   },
   {
    "duration": 3,
    "start_time": "2022-12-05T11:11:23.001Z"
   },
   {
    "duration": 342,
    "start_time": "2022-12-05T11:11:24.221Z"
   },
   {
    "duration": 417,
    "start_time": "2022-12-05T11:12:07.970Z"
   },
   {
    "duration": 3,
    "start_time": "2022-12-05T11:12:58.198Z"
   },
   {
    "duration": 312,
    "start_time": "2022-12-05T11:12:58.986Z"
   },
   {
    "duration": 4,
    "start_time": "2022-12-05T11:13:07.841Z"
   },
   {
    "duration": 3223,
    "start_time": "2022-12-05T11:13:08.548Z"
   },
   {
    "duration": 15,
    "start_time": "2022-12-05T11:13:14.287Z"
   },
   {
    "duration": 3722,
    "start_time": "2022-12-05T11:13:25.608Z"
   },
   {
    "duration": 14,
    "start_time": "2022-12-05T11:13:31.336Z"
   },
   {
    "duration": 3,
    "start_time": "2022-12-05T11:13:38.757Z"
   },
   {
    "duration": 4553,
    "start_time": "2022-12-05T11:13:39.634Z"
   },
   {
    "duration": 19,
    "start_time": "2022-12-05T11:13:44.189Z"
   },
   {
    "duration": 396,
    "start_time": "2022-12-05T11:13:47.457Z"
   },
   {
    "duration": 4,
    "start_time": "2022-12-05T11:13:49.674Z"
   },
   {
    "duration": 3227,
    "start_time": "2022-12-05T11:13:51.264Z"
   },
   {
    "duration": 13,
    "start_time": "2022-12-05T11:13:54.493Z"
   },
   {
    "duration": 4,
    "start_time": "2022-12-05T11:16:58.219Z"
   },
   {
    "duration": 3566,
    "start_time": "2022-12-05T11:16:59.156Z"
   },
   {
    "duration": 13,
    "start_time": "2022-12-05T11:17:05.897Z"
   },
   {
    "duration": 3,
    "start_time": "2022-12-05T11:35:59.298Z"
   },
   {
    "duration": 4610,
    "start_time": "2022-12-05T11:36:01.503Z"
   },
   {
    "duration": 19,
    "start_time": "2022-12-05T11:36:07.372Z"
   },
   {
    "duration": 3,
    "start_time": "2022-12-05T11:36:29.886Z"
   },
   {
    "duration": 4578,
    "start_time": "2022-12-05T11:36:32.337Z"
   },
   {
    "duration": 13,
    "start_time": "2022-12-05T11:36:36.917Z"
   },
   {
    "duration": 3,
    "start_time": "2022-12-05T11:38:34.397Z"
   },
   {
    "duration": 4704,
    "start_time": "2022-12-05T11:38:35.255Z"
   },
   {
    "duration": 13,
    "start_time": "2022-12-05T11:38:39.961Z"
   },
   {
    "duration": 3,
    "start_time": "2022-12-05T11:39:04.977Z"
   },
   {
    "duration": 581,
    "start_time": "2022-12-05T11:39:39.980Z"
   },
   {
    "duration": 24,
    "start_time": "2022-12-05T11:39:41.183Z"
   },
   {
    "duration": 4,
    "start_time": "2022-12-05T11:39:42.054Z"
   },
   {
    "duration": 5402,
    "start_time": "2022-12-05T11:39:46.519Z"
   },
   {
    "duration": 20,
    "start_time": "2022-12-05T11:39:51.924Z"
   },
   {
    "duration": 3,
    "start_time": "2022-12-05T11:43:05.178Z"
   },
   {
    "duration": 573,
    "start_time": "2022-12-05T11:43:06.095Z"
   },
   {
    "duration": 3,
    "start_time": "2022-12-05T11:43:24.150Z"
   },
   {
    "duration": 5478,
    "start_time": "2022-12-05T11:43:24.905Z"
   },
   {
    "duration": 21,
    "start_time": "2022-12-05T11:43:30.386Z"
   },
   {
    "duration": 4837,
    "start_time": "2022-12-05T11:44:40.126Z"
   },
   {
    "duration": 4871,
    "start_time": "2022-12-05T11:49:59.910Z"
   },
   {
    "duration": 490,
    "start_time": "2022-12-07T07:51:15.848Z"
   },
   {
    "duration": 10,
    "start_time": "2022-12-07T07:51:16.340Z"
   },
   {
    "duration": 3,
    "start_time": "2022-12-07T07:51:16.450Z"
   },
   {
    "duration": 5344,
    "start_time": "2022-12-07T07:51:16.723Z"
   },
   {
    "duration": 20,
    "start_time": "2022-12-07T07:51:22.069Z"
   },
   {
    "duration": 589,
    "start_time": "2022-12-07T07:51:22.090Z"
   },
   {
    "duration": 14,
    "start_time": "2022-12-07T07:51:22.680Z"
   },
   {
    "duration": 62,
    "start_time": "2022-12-07T07:51:51.064Z"
   },
   {
    "duration": 174,
    "start_time": "2022-12-07T07:51:57.318Z"
   },
   {
    "duration": 160,
    "start_time": "2022-12-07T07:52:10.105Z"
   },
   {
    "duration": 186,
    "start_time": "2022-12-07T07:53:14.701Z"
   },
   {
    "duration": 159,
    "start_time": "2022-12-07T07:55:00.588Z"
   },
   {
    "duration": 169,
    "start_time": "2022-12-07T07:55:10.159Z"
   },
   {
    "duration": 71,
    "start_time": "2022-12-07T10:21:35.672Z"
   },
   {
    "duration": 523,
    "start_time": "2022-12-07T10:21:40.837Z"
   },
   {
    "duration": 26,
    "start_time": "2022-12-07T10:21:41.362Z"
   },
   {
    "duration": 4,
    "start_time": "2022-12-07T10:21:42.113Z"
   },
   {
    "duration": 5455,
    "start_time": "2022-12-07T10:21:42.784Z"
   },
   {
    "duration": 21,
    "start_time": "2022-12-07T10:21:48.241Z"
   },
   {
    "duration": 571,
    "start_time": "2022-12-07T10:21:48.264Z"
   },
   {
    "duration": 15,
    "start_time": "2022-12-07T10:21:48.837Z"
   },
   {
    "duration": 175,
    "start_time": "2022-12-07T10:21:51.916Z"
   },
   {
    "duration": 85,
    "start_time": "2022-12-07T10:21:53.265Z"
   },
   {
    "duration": 528,
    "start_time": "2022-12-08T08:13:03.104Z"
   },
   {
    "duration": 11,
    "start_time": "2022-12-08T08:13:03.736Z"
   },
   {
    "duration": 3,
    "start_time": "2022-12-08T08:13:04.140Z"
   },
   {
    "duration": 6091,
    "start_time": "2022-12-08T08:13:05.642Z"
   },
   {
    "duration": 22,
    "start_time": "2022-12-08T08:13:11.736Z"
   },
   {
    "duration": 673,
    "start_time": "2022-12-08T08:13:11.760Z"
   },
   {
    "duration": 16,
    "start_time": "2022-12-08T08:13:12.435Z"
   },
   {
    "duration": 135,
    "start_time": "2022-12-08T08:13:54.375Z"
   },
   {
    "duration": 3,
    "start_time": "2022-12-08T08:14:34.194Z"
   },
   {
    "duration": 361,
    "start_time": "2022-12-08T08:14:38.859Z"
   },
   {
    "duration": 14,
    "start_time": "2022-12-08T08:14:39.639Z"
   },
   {
    "duration": 4,
    "start_time": "2022-12-08T08:15:18.105Z"
   },
   {
    "duration": 5688,
    "start_time": "2022-12-08T08:15:20.107Z"
   },
   {
    "duration": 17,
    "start_time": "2022-12-08T08:15:27.647Z"
   },
   {
    "duration": 136,
    "start_time": "2022-12-08T08:15:37.002Z"
   },
   {
    "duration": 6,
    "start_time": "2022-12-08T08:19:36.019Z"
   },
   {
    "duration": 129,
    "start_time": "2022-12-08T08:19:43.380Z"
   },
   {
    "duration": 3,
    "start_time": "2022-12-08T08:20:09.260Z"
   },
   {
    "duration": 5737,
    "start_time": "2022-12-08T08:20:15.184Z"
   },
   {
    "duration": 21,
    "start_time": "2022-12-08T08:20:20.923Z"
   },
   {
    "duration": 4,
    "start_time": "2022-12-08T08:20:52.221Z"
   },
   {
    "duration": 5847,
    "start_time": "2022-12-08T08:20:57.524Z"
   },
   {
    "duration": 17,
    "start_time": "2022-12-08T08:21:03.373Z"
   }
  ],
  "kernelspec": {
   "display_name": "Python 3",
   "language": "python",
   "name": "python3"
  },
  "language_info": {
   "codemirror_mode": {
    "name": "ipython",
    "version": 3
   },
   "file_extension": ".py",
   "mimetype": "text/x-python",
   "name": "python",
   "nbconvert_exporter": "python",
   "pygments_lexer": "ipython3",
   "version": "3.8.8"
  },
  "toc": {
   "base_numbering": 1,
   "nav_menu": {},
   "number_sections": true,
   "sideBar": true,
   "skip_h1_title": true,
   "title_cell": "Table of Contents",
   "title_sidebar": "Contents",
   "toc_cell": false,
   "toc_position": {},
   "toc_section_display": true,
   "toc_window_display": false
  }
 },
 "nbformat": 4,
 "nbformat_minor": 5
}
